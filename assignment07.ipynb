{
  "nbformat": 4,
  "nbformat_minor": 0,
  "metadata": {
    "colab": {
      "name": "assignment07.ipynb",
      "provenance": [],
      "mount_file_id": "1cLDX7Z9GGpPWhBqfAYERDtc3YA0eTYgE",
      "authorship_tag": "ABX9TyOk/PT6pjA5WehRexL9E4tX",
      "include_colab_link": true
    },
    "kernelspec": {
      "name": "python3",
      "display_name": "Python 3"
    },
    "language_info": {
      "name": "python"
    }
  },
  "cells": [
    {
      "cell_type": "markdown",
      "metadata": {
        "id": "view-in-github",
        "colab_type": "text"
      },
      "source": [
        "<a href=\"https://colab.research.google.com/github/joshitha12/NNDL/blob/main/assignment07.ipynb\" target=\"_parent\"><img src=\"https://colab.research.google.com/assets/colab-badge.svg\" alt=\"Open In Colab\"/></a>"
      ]
    },
    {
      "cell_type": "markdown",
      "metadata": {
        "id": "rRQTkeqy6xdf"
      },
      "source": [
        "# developing a simple linear regression model using batch gradient descent optimizer"
      ]
    },
    {
      "cell_type": "code",
      "metadata": {
        "colab": {
          "base_uri": "https://localhost:8080/"
        },
        "id": "UusPNP-yQL60",
        "outputId": "73a8d97d-124f-43bf-9e6c-ede8de3e5d0f"
      },
      "source": [
        "#importing libraries and loading data\n",
        "import pandas as pd\n",
        "import numpy as np\n",
        "import matplotlib.pyplot as plt\n",
        "from numpy import random\n",
        "from sklearn.model_selection import train_test_split\n",
        "data=pd.read_csv('/content/drive/MyDrive/datasets/Book1.csv')\n",
        "print(data)"
      ],
      "execution_count": null,
      "outputs": [
        {
          "output_type": "stream",
          "text": [
            "     x    y\n",
            "0  0.2  3.4\n",
            "1  0.4  3.8\n",
            "2  0.6  4.2\n",
            "3  0.8  4.6\n"
          ],
          "name": "stdout"
        }
      ]
    },
    {
      "cell_type": "code",
      "metadata": {
        "colab": {
          "base_uri": "https://localhost:8080/",
          "height": 300
        },
        "id": "kZM5y9imQlDd",
        "outputId": "9b8f5256-b04b-4206-f543-30ca120ba900"
      },
      "source": [
        "#splitting of data\n",
        "x = np.array(data.iloc[:, 0])\n",
        "y = np.array(data.iloc[:, 1])\n",
        "plt.scatter(x, y)\n",
        "plt.show()\n",
        "x_train,x_test,y_train,y_test=train_test_split(x,y,test_size=0.3)\n",
        "print('size of train_data:',len(x_train))\n",
        "print('size of test_data:',len(x_test))"
      ],
      "execution_count": null,
      "outputs": [
        {
          "output_type": "display_data",
          "data": {
            "image/png": "[encoded data removed]",
            "text/plain": [
              "<Figure size 432x288 with 1 Axes>"
            ]
          },
          "metadata": {
            "tags": [],
            "needs_background": "light"
          }
        },
        {
          "output_type": "stream",
          "text": [
            "size of train_data: 2\n",
            "size of test_data: 2\n"
          ],
          "name": "stdout"
        }
      ]
    },
    {
      "cell_type": "code",
      "metadata": {
        "colab": {
          "base_uri": "https://localhost:8080/"
        },
        "id": "h5pI69nNhaYB",
        "outputId": "758515ff-9bb4-4e3a-bf0a-bbf7f67cb92d"
      },
      "source": [
        "#caluclating model parameters by using BGD optimiser\n",
        "m=1\n",
        "c=-1\n",
        "def BGD_optimizer(x_train,y_train,m,c,l=0.1,epochs=100):\n",
        "  n=float(len(x_train))\n",
        "  for i in range(epochs): \n",
        "    Y_pred = m*x_train + c  # The current predicted value of Y\n",
        "    D_m = (-1/n) * sum(x_train * (y_train - Y_pred))  # Derivative wrt m\n",
        "    D_c = (-1/n) * sum(y_train - Y_pred)  # Derivative wrt c\n",
        "    m = m - l * D_m  # Update m\n",
        "    c = c - l * D_c  # Update c\n",
        "  return m,c\n",
        "m,c=BGD_optimizer(x_train,y_train,m,c)\n",
        "print(m,c)"
      ],
      "execution_count": null,
      "outputs": [
        {
          "output_type": "stream",
          "text": [
            "2.438681525075767 2.7639110486918823\n"
          ],
          "name": "stdout"
        }
      ]
    },
    {
      "cell_type": "code",
      "metadata": {
        "colab": {
          "base_uri": "https://localhost:8080/",
          "height": 281
        },
        "id": "MP3w6LlvkW74",
        "outputId": "6b2b1080-6774-41dd-82d5-62886943f466"
      },
      "source": [
        "#making pridiction \n",
        "Y_pred = m*x + c\n",
        "plt.scatter(x, y)\n",
        "plt.plot([min(x), max(x)], [min(Y_pred), max(Y_pred)], color='red') # predicted\n",
        "plt.title('predicted value vs actual value')\n",
        "plt.show()"
      ],
      "execution_count": null,
      "outputs": [
        {
          "output_type": "display_data",
          "data": {
            "image/png": "[encoded data removed]",
            "text/plain": [
              "<Figure size 432x288 with 1 Axes>"
            ]
          },
          "metadata": {
            "tags": [],
            "needs_background": "light"
          }
        }
      ]
    },
    {
      "cell_type": "code",
      "metadata": {
        "colab": {
          "base_uri": "https://localhost:8080/"
        },
        "id": "Ra7GTJbmiWe_",
        "outputId": "a4837612-63e1-40b2-ce34-20357e84c89a"
      },
      "source": [
        "#mean square error of train and test data\n",
        "mse=0;\n",
        "for i in range(len(x_train)):\n",
        "  mse=mse+((y_train[i]-(m*x_train[i]+c))**2)\n",
        "mse_train=mse/len(x_train);\n",
        "for i in range(len(x_test)):\n",
        "  mse=mse+((y_test[i]-(m*x_test[i]+c))**2)\n",
        "mse_test=mse/len(x_test);\n",
        "print('mean square error of training data:',mse_train);\n",
        "print('mean square error of testing data:',mse_test);"
      ],
      "execution_count": null,
      "outputs": [
        {
          "output_type": "stream",
          "text": [
            "mean square error of training data: 0.017600235066935484\n",
            "mean square error of testing data: 0.019805151698446856\n"
          ],
          "name": "stdout"
        }
      ]
    }
  ]
}