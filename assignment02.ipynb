{
  "nbformat": 4,
  "nbformat_minor": 0,
  "metadata": {
    "colab": {
      "name": "assignment02.ipynb",
      "provenance": [],
      "collapsed_sections": [],
      "authorship_tag": "ABX9TyO4FqH8MMxCQhjXsbdtBq7s",
      "include_colab_link": true
    },
    "kernelspec": {
      "name": "python3",
      "display_name": "Python 3"
    }
  },
  "cells": [
    {
      "cell_type": "markdown",
      "metadata": {
        "id": "view-in-github",
        "colab_type": "text"
      },
      "source": [
        "<a href=\"https://colab.research.google.com/github/joshitha12/NNDL/blob/main/assignment02.ipynb\" target=\"_parent\"><img src=\"https://colab.research.google.com/assets/colab-badge.svg\" alt=\"Open In Colab\"/></a>"
      ]
    },
    {
      "cell_type": "markdown",
      "metadata": {
        "id": "a6yz_NuuDbSM"
      },
      "source": [
        "Find the global minimum point and value for the function f(x)= x^2 + y^2 +10. Do manual calculations for two iterations. Find the optimal solution using python programming."
      ]
    },
    {
      "cell_type": "code",
      "metadata": {
        "colab": {
          "base_uri": "https://localhost:8080/"
        },
        "id": "VeXBYR3OA4Aq",
        "outputId": "c94d998b-c4fa-4bbe-ede9-17d7f5b6acd5"
      },
      "source": [
        "#gradient desent algorithum for multiple variables x,y\n",
        "max_iter=500 #number of epochs i.e; max iterations\n",
        "def f(x,y):\n",
        "  return (x ** 2) + (y ** 2) + 10 #given function\n",
        "def df(x):\n",
        "\treturn (2 * x) #gradient of functionf w.r.t x\n",
        "def df1(y):\n",
        "  return (2*y)   #gradient of functionf w.r.t y\n",
        "def gradient_descent(f,x, learning_rate=0.01): \n",
        "  new_x = x\n",
        "  for n in range(max_iter):\n",
        "    gradient_x = df(new_x)\n",
        "    new_x = x - learning_rate * gradient_x #updation of new value of x\n",
        "  return new_x\n",
        "def gradient_descent(f1,y, learning_rate=0.01):\n",
        "  new_y = y\n",
        "  for n in range(max_iter):\n",
        "    gradient_y = df1(new_y)\n",
        "    new_y = y - learning_rate * gradient_y #updation of new value of y\n",
        "  return new_y\n",
        "minima = gradient_descent(df,0)\n",
        "minima1 = gradient_descent(df1,0)\n",
        "print(\"The global minimum occurs at:\",minima,minima1)\n",
        "print(\"minimum value of f(x) at global minima is: \",f(minima,minima1))"
      ],
      "execution_count": null,
      "outputs": [
        {
          "output_type": "stream",
          "text": [
            "The global minimum occurs at: 0.0 0.0\n",
            "minimum value of f(x) at global minima is:  10.0\n"
          ],
          "name": "stdout"
        }
      ]
    }
  ]
}