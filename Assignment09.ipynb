{
  "nbformat": 4,
  "nbformat_minor": 0,
  "metadata": {
    "colab": {
      "name": "Assignment09.ipynb",
      "provenance": [],
      "mount_file_id": "1gzr-CciJWIVpoeRPPHeq88NsOhvUFHIF",
      "authorship_tag": "ABX9TyMTPWi0JE8wm9+4k98hiWfl",
      "include_colab_link": true
    },
    "kernelspec": {
      "name": "python3",
      "display_name": "Python 3"
    },
    "language_info": {
      "name": "python"
    }
  },
  "cells": [
    {
      "cell_type": "markdown",
      "metadata": {
        "id": "view-in-github",
        "colab_type": "text"
      },
      "source": [
        "<a href=\"https://colab.research.google.com/github/joshitha12/NNDL/blob/main/Assignment09.ipynb\" target=\"_parent\"><img src=\"https://colab.research.google.com/assets/colab-badge.svg\" alt=\"Open In Colab\"/></a>"
      ]
    },
    {
      "cell_type": "markdown",
      "metadata": {
        "id": "zZts7d_L6aJK"
      },
      "source": [
        "# developing a simple linear regression model using momentum optimizer"
      ]
    },
    {
      "cell_type": "code",
      "metadata": {
        "id": "q8Cg2tnW6D36",
        "colab": {
          "base_uri": "https://localhost:8080/"
        },
        "outputId": "5e446c06-3bf0-4b25-9b75-f78037a3d375"
      },
      "source": [
        "#importing libraries and loading data\n",
        "import pandas as pd\n",
        "import numpy as np\n",
        "import matplotlib.pyplot as plt\n",
        "from numpy import random\n",
        "from sklearn.model_selection import train_test_split\n",
        "data=pd.read_csv('/content/drive/MyDrive/datasets/Book1.csv')\n",
        "print(data)"
      ],
      "execution_count": null,
      "outputs": [
        {
          "output_type": "stream",
          "text": [
            "     x    y\n",
            "0  0.2  3.4\n",
            "1  0.4  3.8\n",
            "2  0.6  4.2\n",
            "3  0.8  4.6\n"
          ],
          "name": "stdout"
        }
      ]
    },
    {
      "cell_type": "code",
      "metadata": {
        "colab": {
          "base_uri": "https://localhost:8080/",
          "height": 300
        },
        "id": "_y2663X_uSZD",
        "outputId": "49498fd0-0e57-4be0-cbb2-df90ee5d5199"
      },
      "source": [
        "#splitting of data\n",
        "x = np.array(data.iloc[:, 0])\n",
        "y = np.array(data.iloc[:, 1])\n",
        "plt.scatter(x, y)\n",
        "plt.show()\n",
        "x_train,x_test,y_train,y_test=train_test_split(x,y,test_size=0.3)\n",
        "print('size of train_data:',len(x_train))\n",
        "print('size of test_data:',len(x_test))"
      ],
      "execution_count": null,
      "outputs": [
        {
          "output_type": "display_data",
          "data": {
            "image/png": "[encoded data removed]",
            "text/plain": [
              "<Figure size 432x288 with 1 Axes>"
            ]
          },
          "metadata": {
            "tags": [],
            "needs_background": "light"
          }
        },
        {
          "output_type": "stream",
          "text": [
            "size of train_data: 2\n",
            "size of test_data: 2\n"
          ],
          "name": "stdout"
        }
      ]
    },
    {
      "cell_type": "code",
      "metadata": {
        "colab": {
          "base_uri": "https://localhost:8080/"
        },
        "id": "iUmlaa6O9qt9",
        "outputId": "6c0d6a1d-b67f-45c9-d142-71a2cc5268e7"
      },
      "source": [
        "m=1#random.randint(0,6)\n",
        "print('m=',m)\n",
        "c=-1#random.randint(-2,6)\n",
        "print('c=',c)\n",
        "l=0.1\n",
        "epoch=100\n",
        "g=0.9\n",
        "v_m=0\n",
        "v_c=0\n",
        "for i in range(epoch):\n",
        "  for j in range(len(x_train)):\n",
        "    del_m=(-1)*(y_train[j]-m*x_train[j]-c)*x_train[j]\n",
        "    del_c=(-1)*(y_train[j]-m*x_train[j]-c)\n",
        "    v_m=g*v_m-(l*del_m)\n",
        "    v_c=g*v_c-(l*del_c)\n",
        "    m=m+v_m;\n",
        "    c=c+v_c;\n",
        "      \n",
        "print(m,c)"
      ],
      "execution_count": null,
      "outputs": [
        {
          "output_type": "stream",
          "text": [
            "m= 1\n",
            "c= -1\n",
            "2.000035924393182 3.0000736152042675\n"
          ],
          "name": "stdout"
        }
      ]
    },
    {
      "cell_type": "code",
      "metadata": {
        "colab": {
          "base_uri": "https://localhost:8080/",
          "height": 281
        },
        "id": "-63mgUqjBqzb",
        "outputId": "eb6fa23a-f75a-43d0-f34d-a2443ff7c599"
      },
      "source": [
        "#making pridiction \n",
        "Y_pred = m*x + c\n",
        "plt.scatter(x, y)\n",
        "plt.plot([min(x), max(x)], [min(Y_pred), max(Y_pred)], color='red') # predicted\n",
        "plt.title('predicted value vs actual value')\n",
        "plt.show()"
      ],
      "execution_count": null,
      "outputs": [
        {
          "output_type": "display_data",
          "data": {
            "image/png": "[encoded data removed]",
            "text/plain": [
              "<Figure size 432x288 with 1 Axes>"
            ]
          },
          "metadata": {
            "tags": [],
            "needs_background": "light"
          }
        }
      ]
    },
    {
      "cell_type": "code",
      "metadata": {
        "colab": {
          "base_uri": "https://localhost:8080/"
        },
        "id": "KTcnN0JY-q55",
        "outputId": "6fd79c6a-4c4d-457f-fdba-14862e6f7135"
      },
      "source": [
        "#mean square error of train and test data\n",
        "mse=0;\n",
        "for i in range(len(x_train)):\n",
        "  mse=mse+((y_train[i]-(m*x_train[i]+c))**2)\n",
        "mse_train=mse/len(x_train);\n",
        "for i in range(len(x_test)):\n",
        "  mse=mse+((y_test[i]-(m*x_test[i]+c))**2)\n",
        "mse_test=mse/len(x_test);\n",
        "print('mean square error of training data:',mse_train)\n",
        "print('mean square error of testing data:',mse_test)"
      ],
      "execution_count": null,
      "outputs": [
        {
          "output_type": "stream",
          "text": [
            "mean square error of training data: 8.50257093034063e-09\n",
            "mean square error of testing data: 1.6901896898596807e-08\n"
          ],
          "name": "stdout"
        }
      ]
    }
  ]
}