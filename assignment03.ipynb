{
  "nbformat": 4,
  "nbformat_minor": 0,
  "metadata": {
    "colab": {
      "name": "assignment03.ipynb",
      "provenance": [],
      "collapsed_sections": [],
      "mount_file_id": "1gLtRH6fML5yxnlsO5T6E3a7BtjrYtq2o",
      "authorship_tag": "ABX9TyOKly45fl64OPnT2pjQ0/DG",
      "include_colab_link": true
    },
    "kernelspec": {
      "name": "python3",
      "display_name": "Python 3"
    }
  },
  "cells": [
    {
      "cell_type": "markdown",
      "metadata": {
        "id": "view-in-github",
        "colab_type": "text"
      },
      "source": [
        "<a href=\"https://colab.research.google.com/github/joshitha12/NNDL/blob/main/assignment03.ipynb\" target=\"_parent\"><img src=\"https://colab.research.google.com/assets/colab-badge.svg\" alt=\"Open In Colab\"/></a>"
      ]
    },
    {
      "cell_type": "markdown",
      "metadata": {
        "id": "-R2g5VmM8B-d"
      },
      "source": [
        "# write a python code to build simple linear regression model using SGD optimizer."
      ]
    },
    {
      "cell_type": "code",
      "metadata": {
        "colab": {
          "base_uri": "https://localhost:8080/"
        },
        "id": "aIcieYr37XsI",
        "outputId": "879c5b4f-49c6-4912-9d8e-364b0bceb8d9"
      },
      "source": [
        "#importing libraries and loading data\n",
        "import pandas as pd\n",
        "import numpy as np\n",
        "import matplotlib.pyplot as plt\n",
        "from numpy import random\n",
        "from sklearn.model_selection import train_test_split\n",
        "data=pd.read_csv('/content/drive/MyDrive/datasets/Book1.csv')\n",
        "print(data)"
      ],
      "execution_count": null,
      "outputs": [
        {
          "output_type": "stream",
          "text": [
            "     x    y\n",
            "0  0.2  3.4\n",
            "1  0.4  3.8\n",
            "2  0.6  4.2\n",
            "3  0.8  4.6\n"
          ],
          "name": "stdout"
        }
      ]
    },
    {
      "cell_type": "code",
      "metadata": {
        "colab": {
          "base_uri": "https://localhost:8080/",
          "height": 300
        },
        "id": "-DBN3wsQ7ceG",
        "outputId": "15e34d9d-e535-4aa1-b221-fae5b18b9818"
      },
      "source": [
        "#splitting of data\n",
        "x = np.array(data.iloc[:, 0])\n",
        "y = np.array(data.iloc[:, 1])\n",
        "plt.scatter(x, y)\n",
        "plt.show()\n",
        "x_train,x_test,y_train,y_test=train_test_split(x,y,test_size=0.3)\n",
        "print('size of train_data:',len(x_train))\n",
        "print('size of test_data:',len(x_test))"
      ],
      "execution_count": null,
      "outputs": [
        {
          "output_type": "display_data",
          "data": {
            "image/png": "[encoded data removed]",
            "text/plain": [
              "<Figure size 432x288 with 1 Axes>"
            ]
          },
          "metadata": {
            "tags": [],
            "needs_background": "light"
          }
        },
        {
          "output_type": "stream",
          "text": [
            "size of train_data: 2\n",
            "size of test_data: 2\n"
          ],
          "name": "stdout"
        }
      ]
    },
    {
      "cell_type": "code",
      "metadata": {
        "colab": {
          "base_uri": "https://localhost:8080/"
        },
        "id": "-5wfyQmd7gFc",
        "outputId": "24c99f76-5494-457b-ae15-01c489149d79"
      },
      "source": [
        "#caluclating model parameters by using SGD optimiser\n",
        "m=1#random.randint(0,6)\n",
        "print('m=',m)\n",
        "c=-1#random.randint(-2,6)\n",
        "print('c=',c)\n",
        "l=0.1\n",
        "epoch=100\n",
        "for i in range(epoch):\n",
        "  for j in range(len(x_train)):\n",
        "    del_m=(-1)*(y_train[j]-m*x_train[j]-c)*x_train[j];\n",
        "    del_c=(-1)*(y_train[j]-m*x_train[j]-c);\n",
        "    m=m-(l*del_m);\n",
        "    c=c-(l*del_c);\n",
        "      \n",
        "print(m,c)"
      ],
      "execution_count": null,
      "outputs": [
        {
          "output_type": "stream",
          "text": [
            "m= 1\n",
            "c= -1\n",
            "2.293317471448991 2.881595956521372\n"
          ],
          "name": "stdout"
        }
      ]
    },
    {
      "cell_type": "code",
      "metadata": {
        "colab": {
          "base_uri": "https://localhost:8080/",
          "height": 281
        },
        "id": "kxjj-QU8IXkr",
        "outputId": "a9f8056d-74cd-41f0-a7da-0cac61d85ea4"
      },
      "source": [
        "plt.scatter(x, y)\n",
        "plt.plot(x_train, c + m*x_train, 'r')\n",
        "plt.title(\"predicted value vs actual value\")\n",
        "plt.show()"
      ],
      "execution_count": null,
      "outputs": [
        {
          "output_type": "display_data",
          "data": {
            "image/png": "[encoded data removed]",
            "text/plain": [
              "<Figure size 432x288 with 1 Axes>"
            ]
          },
          "metadata": {
            "tags": [],
            "needs_background": "light"
          }
        }
      ]
    },
    {
      "cell_type": "code",
      "metadata": {
        "colab": {
          "base_uri": "https://localhost:8080/"
        },
        "id": "c2INVvHx7kVA",
        "outputId": "0a4d336b-3299-4436-ff23-0715ca9a400c"
      },
      "source": [
        "#mean square error of train and test data\n",
        "mse=0;\n",
        "for i in range(len(x_train)):\n",
        "  mse=mse+((y_train[i]-(m*x_train[i]+c))**2)\n",
        "mse_train=mse/len(x_train);\n",
        "for i in range(len(x_test)):\n",
        "  mse=mse+((y_test[i]-(m*x_test[i]+c))**2)\n",
        "mse_test=mse/len(x_test);\n",
        "print('mean square error of training data:',mse_train)\n",
        "print('mean square error of testing data:',mse_test)"
      ],
      "execution_count": null,
      "outputs": [
        {
          "output_type": "stream",
          "text": [
            "mean square error of training data: 0.003442565609544678\n",
            "mean square error of testing data: 0.010200169173540389\n"
          ],
          "name": "stdout"
        }
      ]
    }
  ]
}