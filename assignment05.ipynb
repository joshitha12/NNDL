{
  "nbformat": 4,
  "nbformat_minor": 0,
  "metadata": {
    "colab": {
      "name": "assignment05.ipynb",
      "provenance": [],
      "mount_file_id": "1GToxWkH-jtTEpfeSb1cmkdpr48c3-EuO",
      "authorship_tag": "ABX9TyPLRPRUHmdw1h6tx95/0Tr3",
      "include_colab_link": true
    },
    "kernelspec": {
      "name": "python3",
      "display_name": "Python 3"
    },
    "language_info": {
      "name": "python"
    }
  },
  "cells": [
    {
      "cell_type": "markdown",
      "metadata": {
        "id": "view-in-github",
        "colab_type": "text"
      },
      "source": [
        "<a href=\"https://colab.research.google.com/github/joshitha12/NNDL/blob/main/assignment05.ipynb\" target=\"_parent\"><img src=\"https://colab.research.google.com/assets/colab-badge.svg\" alt=\"Open In Colab\"/></a>"
      ]
    },
    {
      "cell_type": "markdown",
      "metadata": {
        "id": "b2rTQYvl6gWh"
      },
      "source": [
        "# developing a simple linear regression model using mini batch gradient descent(MBG) optimizer"
      ]
    },
    {
      "cell_type": "code",
      "metadata": {
        "colab": {
          "base_uri": "https://localhost:8080/"
        },
        "id": "U1OW_8_oZ4Kg",
        "outputId": "2cde3bf3-7239-4af3-d7f0-dd70af17fc6a"
      },
      "source": [
        "import pandas as pd\n",
        "import numpy as np\n",
        "import matplotlib.pyplot as plt\n",
        "from numpy import random\n",
        "from sklearn.model_selection import train_test_split\n",
        "data=pd.read_csv('/content/drive/MyDrive/datasets/Book1.csv')\n",
        "print(data)\n",
        "x = np.array(data.iloc[:, 0])\n",
        "y = np.array(data.iloc[:, 1])"
      ],
      "execution_count": null,
      "outputs": [
        {
          "output_type": "stream",
          "text": [
            "     x    y\n",
            "0  0.2  3.4\n",
            "1  0.4  3.8\n",
            "2  0.6  4.2\n",
            "3  0.8  4.6\n"
          ],
          "name": "stdout"
        }
      ]
    },
    {
      "cell_type": "code",
      "metadata": {
        "colab": {
          "base_uri": "https://localhost:8080/"
        },
        "id": "XSFOMtrwSETn",
        "outputId": "6190fb0b-a5b9-43ca-89d7-2c3304bea9f9"
      },
      "source": [
        "#step 1 initialise values\n",
        "bs=2\n",
        "m=1 \n",
        "c=-1  \n",
        "l=0.01      #Learning rate\n",
        "epochs=100#Maximum iterations\n",
        "ns=len(x)\n",
        "nb=ns//bs\n",
        "ms=ns%bs\n",
        "\n",
        "k=nb\n",
        "if(ms>0):\n",
        "  g_m=0\n",
        "  g_c=0\n",
        "  for j in range(0,ms):\n",
        "    ind=k*bs + j\n",
        "    g_m=g_m+((-1.0)*((y[ind]-m*x[ind]-c)*x[ind]))\n",
        "    g_c=g_c+((-1.0)*(y[ind]-m*x[ind]-c))\n",
        "  g_m = g_m/ms\n",
        "  g_c= g_c/ms\n",
        "  #find change in m , c\n",
        "  dm = (-1.0)*l*g_m\n",
        "  dc = (-1.0)*l*g_c\n",
        "  #update variable \n",
        "  m = m + dm \n",
        "  c = c + dc\n",
        "for i in range(epochs):\n",
        "  for k in range(nb):\n",
        "    g_m=0\n",
        "    g_c=0\n",
        "    for j in range(bs):\n",
        "      ind = k*bs + j\n",
        "      g_m = g_m+((-1.0)*((y[ind] - m*x[ind] -c)*x[ind]))\n",
        "      g_c = g_c+((-1.0)*(y[ind] - m*x[ind] -c))\n",
        "      g_m = g_m/bs\n",
        "      g_c = g_c/bs\n",
        "      #find change in m,c\n",
        "      dm = (-1.0)*l*g_m\n",
        "      dc = (-1.0)*l*g_c\n",
        "      #update variable \n",
        "      m = m + dm \n",
        "      c = c + dc\n",
        "#step7 print variable x1, y1\n",
        "m= round(m,2)\n",
        "c= round(c,2)\n",
        "print(m,c)"
      ],
      "execution_count": null,
      "outputs": [
        {
          "output_type": "stream",
          "text": [
            "2.64 2.48\n"
          ],
          "name": "stdout"
        }
      ]
    },
    {
      "cell_type": "code",
      "metadata": {
        "colab": {
          "base_uri": "https://localhost:8080/",
          "height": 281
        },
        "id": "3U48jgeuBPP7",
        "outputId": "a7b3faa9-46e7-44c0-842e-9c26f85dfdb9"
      },
      "source": [
        "#making pridiction \n",
        "Y_pred = m*x + c\n",
        "plt.scatter(x, y)\n",
        "plt.plot([min(x), max(x)], [min(Y_pred), max(Y_pred)], color='red') # predicted\n",
        "plt.title('predicted value vs actual value')\n",
        "plt.show()"
      ],
      "execution_count": null,
      "outputs": [
        {
          "output_type": "display_data",
          "data": {
            "image/png": "[encoded data removed]",
            "text/plain": [
              "<Figure size 432x288 with 1 Axes>"
            ]
          },
          "metadata": {
            "tags": [],
            "needs_background": "light"
          }
        }
      ]
    },
    {
      "cell_type": "code",
      "metadata": {
        "colab": {
          "base_uri": "https://localhost:8080/"
        },
        "id": "ldVxqsLAcLJW",
        "outputId": "6c74b56c-ad1e-4df0-99f0-cca685783801"
      },
      "source": [
        "q=0\n",
        "for i in range(len(x)):\n",
        "  q += ((y[i]-(m*x[i]+c))**2)\n",
        "mse = q/len(x)\n",
        "print('mean square error:',mse)"
      ],
      "execution_count": null,
      "outputs": [
        {
          "output_type": "stream",
          "text": [
            "mean square error: 0.06047999999999995\n"
          ],
          "name": "stdout"
        }
      ]
    }
  ]
}