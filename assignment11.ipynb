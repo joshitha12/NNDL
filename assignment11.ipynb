{
  "nbformat": 4,
  "nbformat_minor": 0,
  "metadata": {
    "colab": {
      "name": "assignment11.ipynb",
      "provenance": [],
      "collapsed_sections": [],
      "mount_file_id": "1SiSjxr8wMl2rr5WHC5uNIs-U2GGvbwAC",
      "authorship_tag": "ABX9TyMnAVfCEbE6w1ZR8L1ufiAD",
      "include_colab_link": true
    },
    "kernelspec": {
      "name": "python3",
      "display_name": "Python 3"
    },
    "language_info": {
      "name": "python"
    }
  },
  "cells": [
    {
      "cell_type": "markdown",
      "metadata": {
        "id": "view-in-github",
        "colab_type": "text"
      },
      "source": [
        "<a href=\"https://colab.research.google.com/github/joshitha12/NNDL/blob/main/assignment11.ipynb\" target=\"_parent\"><img src=\"https://colab.research.google.com/assets/colab-badge.svg\" alt=\"Open In Colab\"/></a>"
      ]
    },
    {
      "cell_type": "markdown",
      "metadata": {
        "id": "UGk8cPw-6TGp"
      },
      "source": [
        "# developing a simple linear regression model using Nesterov Accelerated gradient(NAG) optimizer"
      ]
    },
    {
      "cell_type": "code",
      "metadata": {
        "id": "T1G5Bl-Z6N8w",
        "colab": {
          "base_uri": "https://localhost:8080/"
        },
        "outputId": "fb1e77a3-0d8e-4002-e273-22c4bed4b329"
      },
      "source": [
        "#importing libraries and loading data\n",
        "import pandas as pd\n",
        "import numpy as np\n",
        "import matplotlib.pyplot as plt\n",
        "from numpy import random\n",
        "from sklearn.model_selection import train_test_split\n",
        "data=pd.read_csv('/content/drive/MyDrive/datasets/Book1.csv')\n",
        "print(data)"
      ],
      "execution_count": null,
      "outputs": [
        {
          "output_type": "stream",
          "text": [
            "     x    y\n",
            "0  0.2  3.4\n",
            "1  0.4  3.8\n",
            "2  0.6  4.2\n",
            "3  0.8  4.6\n"
          ],
          "name": "stdout"
        }
      ]
    },
    {
      "cell_type": "code",
      "metadata": {
        "colab": {
          "base_uri": "https://localhost:8080/",
          "height": 300
        },
        "id": "t-JPExwCCSZT",
        "outputId": "5bffb61b-022b-4e37-9ed6-447bebe7d587"
      },
      "source": [
        "#splitting of data\n",
        "x = np.array(data.iloc[:, 0])\n",
        "y = np.array(data.iloc[:, 1])\n",
        "plt.scatter(x, y)\n",
        "plt.show()\n",
        "x_train,x_test,y_train,y_test=train_test_split(x,y,test_size=0.3)\n",
        "print('size of train_data:',len(x_train))\n",
        "print('size of test_data:',len(x_test))"
      ],
      "execution_count": null,
      "outputs": [
        {
          "output_type": "display_data",
          "data": {
            "image/png": "[encoded data removed]",
            "text/plain": [
              "<Figure size 432x288 with 1 Axes>"
            ]
          },
          "metadata": {
            "tags": [],
            "needs_background": "light"
          }
        },
        {
          "output_type": "stream",
          "text": [
            "size of train_data: 2\n",
            "size of test_data: 2\n"
          ],
          "name": "stdout"
        }
      ]
    },
    {
      "cell_type": "code",
      "metadata": {
        "colab": {
          "base_uri": "https://localhost:8080/"
        },
        "id": "vwjIyLqdCVb0",
        "outputId": "ff6bba1e-ec1a-47b8-cd56-43868e2cc218"
      },
      "source": [
        "m=1#random.randint(0,6)\n",
        "print('m=',m)\n",
        "c=-1#random.randint(-2,6)\n",
        "print('c=',c)\n",
        "l=0.1\n",
        "epoch=100\n",
        "g=0.9\n",
        "v_m=0\n",
        "v_c=0\n",
        "for i in range(epoch):\n",
        "  for j in range(len(x_train)):\n",
        "    del_m=(-1)*(y_train[j]-(m+g*v_m)*x_train[j]-c-g*v_c)*x_train[j]\n",
        "    del_c=(-1)*(y_train[j]-(m+g*v_m)*x_train[j]-c-g*v_c)\n",
        "    v_m=g*v_m-(l*del_m)\n",
        "    v_c=g*v_c-(l*del_c)\n",
        "    m=m+v_m;\n",
        "    c=c+v_c;\n",
        "      \n",
        "print(m,c)"
      ],
      "execution_count": null,
      "outputs": [
        {
          "output_type": "stream",
          "text": [
            "m= 1\n",
            "c= -1\n",
            "2.3037810971699693 2.786892216525698\n"
          ],
          "name": "stdout"
        }
      ]
    },
    {
      "cell_type": "code",
      "metadata": {
        "colab": {
          "base_uri": "https://localhost:8080/",
          "height": 281
        },
        "id": "IhoVptQLCaIj",
        "outputId": "7d5ecc5c-d509-4b52-c6ac-5d5d82e4c9b6"
      },
      "source": [
        "#making pridiction \n",
        "Y_pred = m*x + c\n",
        "plt.scatter(x, y)\n",
        "plt.plot([min(x), max(x)], [min(Y_pred), max(Y_pred)], color='red') # predicted\n",
        "plt.title('predicted value vs actual value')\n",
        "plt.show()"
      ],
      "execution_count": null,
      "outputs": [
        {
          "output_type": "display_data",
          "data": {
            "image/png": "[encoded data removed]",
            "text/plain": [
              "<Figure size 432x288 with 1 Axes>"
            ]
          },
          "metadata": {
            "tags": [],
            "needs_background": "light"
          }
        }
      ]
    },
    {
      "cell_type": "code",
      "metadata": {
        "colab": {
          "base_uri": "https://localhost:8080/"
        },
        "id": "aY-xuRwdCgk-",
        "outputId": "29750dab-273d-48e9-bd33-88b7600ab04d"
      },
      "source": [
        "#mean square error of train and test data\n",
        "mse=0;\n",
        "for i in range(len(x_train)):\n",
        "  mse=mse+((y_train[i]-(m*x_train[i]+c))**2)\n",
        "mse_train=mse/len(x_train);\n",
        "for i in range(len(x_test)):\n",
        "  mse=mse+((y_test[i]-(m*x_test[i]+c))**2)\n",
        "mse_test=mse/len(x_test);\n",
        "print('mean square error of training data:',mse_train)\n",
        "print('mean square error of testing data:',mse_test)"
      ],
      "execution_count": null,
      "outputs": [
        {
          "output_type": "stream",
          "text": [
            "mean square error of training data: 0.000923042085227985\n",
            "mean square error of testing data: 0.016723395194766684\n"
          ],
          "name": "stdout"
        }
      ]
    }
  ]
}