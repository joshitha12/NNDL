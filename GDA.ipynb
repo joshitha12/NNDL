{
  "nbformat": 4,
  "nbformat_minor": 0,
  "metadata": {
    "colab": {
      "name": "GDA.ipynb",
      "provenance": [],
      "authorship_tag": "ABX9TyN1NY52zUIiDIFqw8DbS3vo",
      "include_colab_link": true
    },
    "kernelspec": {
      "name": "python3",
      "display_name": "Python 3"
    }
  },
  "cells": [
    {
      "cell_type": "markdown",
      "metadata": {
        "id": "view-in-github",
        "colab_type": "text"
      },
      "source": [
        "<a href=\"https://colab.research.google.com/github/joshitha12/NNDL/blob/main/GDA.ipynb\" target=\"_parent\"><img src=\"https://colab.research.google.com/assets/colab-badge.svg\" alt=\"Open In Colab\"/></a>"
      ]
    },
    {
      "cell_type": "code",
      "metadata": {
        "colab": {
          "base_uri": "https://localhost:8080/"
        },
        "id": "zfaJgea-7Qpn",
        "outputId": "ae22b304-6596-4f22-82ed-ef8076fe61e5"
      },
      "source": [
        "def f(x):\r\n",
        "\treturn  (x ** 4) + (3 * (x ** 2)) + 10\r\n",
        "\r\n",
        "def df(x):\r\n",
        "\treturn (4 * (x**3)) + (6 * x) \r\n",
        "\r\n",
        "def gradient_descent(f,x, learning_rate=0.01, precision= 0.0001):\r\n",
        "\r\n",
        "\tnext_x = x\r\n",
        "\tfor n in range(500):\r\n",
        "\t\tcurrent_x = next_x\r\n",
        "\t\tgradient = f(current_x)\r\n",
        "\t\tnext_x = current_x - learning_rate * gradient\r\n",
        "\r\n",
        "\t\tstep_size = abs(next_x - current_x)\r\n",
        "\t\t\r\n",
        "\t\tif step_size < precision:\r\n",
        "    \t\t\tbreak\r\n",
        "\treturn next_x\r\n",
        "\r\n",
        "minima = gradient_descent(df, 3)\r\n",
        "print('global minimum value of f(x) ',minima)\r\n"
      ],
      "execution_count": 74,
      "outputs": [
        {
          "output_type": "stream",
          "text": [
            "global minimum value of f(x)  0.0015186093972948697\n"
          ],
          "name": "stdout"
        }
      ]
    }
  ]
}