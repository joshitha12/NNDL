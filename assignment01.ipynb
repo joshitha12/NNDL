{
  "nbformat": 4,
  "nbformat_minor": 0,
  "metadata": {
    "colab": {
      "name": "assignment01.ipynb",
      "provenance": [],
      "collapsed_sections": [],
      "authorship_tag": "ABX9TyP4yRy9474yJRN0ubj79zKU",
      "include_colab_link": true
    },
    "kernelspec": {
      "name": "python3",
      "display_name": "Python 3"
    }
  },
  "cells": [
    {
      "cell_type": "markdown",
      "metadata": {
        "id": "view-in-github",
        "colab_type": "text"
      },
      "source": [
        "<a href=\"https://colab.research.google.com/github/joshitha12/NNDL/blob/main/assignment01.ipynb\" target=\"_parent\"><img src=\"https://colab.research.google.com/assets/colab-badge.svg\" alt=\"Open In Colab\"/></a>"
      ]
    },
    {
      "cell_type": "code",
      "metadata": {
        "colab": {
          "base_uri": "https://localhost:8080/"
        },
        "id": "zfaJgea-7Qpn",
        "outputId": "9d90efd1-d399-4368-d4a7-f6db47dc7e34"
      },
      "source": [
        "def f(x):\r\n",
        "\treturn  (x ** 4) + (3 * (x ** 2)) + 10\r\n",
        "\r\n",
        "def df(x):\r\n",
        "\treturn (4 * (x**3)) + (6 * x) \r\n",
        "\r\n",
        "def gradient_descent(f,x, learning_rate=0.01):\r\n",
        "\r\n",
        "\tnew_x = x\r\n",
        "\tfor n in range(500):\r\n",
        "\t\tgradient = f(new_x)\r\n",
        "\t\tnew_x = new_x - learning_rate * gradient\r\n",
        "\treturn new_x\r\n",
        "minima = gradient_descent(df, 0)\r\n",
        "print(\"minimum value of f(x) at x=0 is \",f(minima))\r\n"
      ],
      "execution_count": 1,
      "outputs": [
        {
          "output_type": "stream",
          "text": [
            "minimum value of f(x) at x=0 is  10.0\n"
          ],
          "name": "stdout"
        }
      ]
    }
  ]
}